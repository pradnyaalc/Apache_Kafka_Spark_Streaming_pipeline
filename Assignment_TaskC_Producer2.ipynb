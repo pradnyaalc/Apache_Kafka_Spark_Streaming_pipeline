{
 "cells": [
  {
   "cell_type": "code",
   "execution_count": 1,
   "metadata": {
    "scrolled": false
   },
   "outputs": [
    {
     "name": "stdout",
     "output_type": "stream",
     "text": [
      "Publishing records..\n",
      "Message published successfully.  b'{\"latitude\":-35.0722,\"longitude\":141.4325,\"confidence\":76.0,\"surface_temperature_celcius\":53.0,\"created_time\":\"14-11-2019 22:46:58\",\"sender_id\":\"710eda3f5b32411fb607a1a69a182c69aqua\"}'\n"
     ]
    },
    {
     "name": "stderr",
     "output_type": "stream",
     "text": [
      "/usr/local/lib/python3.6/dist-packages/ipykernel_launcher.py:46: SettingWithCopyWarning: \n",
      "A value is trying to be set on a copy of a slice from a DataFrame\n",
      "\n",
      "See the caveats in the documentation: http://pandas.pydata.org/pandas-docs/stable/indexing.html#indexing-view-versus-copy\n",
      "/usr/local/lib/python3.6/dist-packages/pandas/core/series.py:915: SettingWithCopyWarning: \n",
      "A value is trying to be set on a copy of a slice from a DataFrame\n",
      "\n",
      "See the caveats in the documentation: http://pandas.pydata.org/pandas-docs/stable/indexing.html#indexing-view-versus-copy\n",
      "  self.loc[key] = value\n",
      "/usr/local/lib/python3.6/dist-packages/ipykernel_launcher.py:47: SettingWithCopyWarning: \n",
      "A value is trying to be set on a copy of a slice from a DataFrame\n",
      "\n",
      "See the caveats in the documentation: http://pandas.pydata.org/pandas-docs/stable/indexing.html#indexing-view-versus-copy\n"
     ]
    },
    {
     "name": "stdout",
     "output_type": "stream",
     "text": [
      "Message published successfully.  b'{\"latitude\":-37.3314,\"longitude\":149.1283,\"confidence\":65.0,\"surface_temperature_celcius\":35.0,\"created_time\":\"14-11-2019 22:47:05\",\"sender_id\":\"710eda3f5b32411fb607a1a69a182c69aqua\"}'\n",
      "Message published successfully.  b'{\"latitude\":-38.0248,\"longitude\":143.469,\"confidence\":78.0,\"surface_temperature_celcius\":51.0,\"created_time\":\"14-11-2019 22:47:12\",\"sender_id\":\"710eda3f5b32411fb607a1a69a182c69aqua\"}'\n",
      "Message published successfully.  b'{\"latitude\":-36.3493,\"longitude\":145.8723,\"confidence\":86.0,\"surface_temperature_celcius\":60.0,\"created_time\":\"14-11-2019 22:47:19\",\"sender_id\":\"710eda3f5b32411fb607a1a69a182c69aqua\"}'\n",
      "Message published successfully.  b'{\"latitude\":-37.5529,\"longitude\":142.9882,\"confidence\":79.0,\"surface_temperature_celcius\":52.0,\"created_time\":\"14-11-2019 22:47:26\",\"sender_id\":\"710eda3f5b32411fb607a1a69a182c69aqua\"}'\n",
      "Message published successfully.  b'{\"latitude\":-36.3086,\"longitude\":141.135,\"confidence\":82.0,\"surface_temperature_celcius\":55.0,\"created_time\":\"14-11-2019 22:47:33\",\"sender_id\":\"710eda3f5b32411fb607a1a69a182c69aqua\"}'\n",
      "Message published successfully.  b'{\"latitude\":-34.328,\"longitude\":141.5402,\"confidence\":78.0,\"surface_temperature_celcius\":58.0,\"created_time\":\"14-11-2019 22:47:40\",\"sender_id\":\"710eda3f5b32411fb607a1a69a182c69aqua\"}'\n",
      "Message published successfully.  b'{\"latitude\":-36.8221,\"longitude\":145.1397,\"confidence\":78.0,\"surface_temperature_celcius\":52.0,\"created_time\":\"14-11-2019 22:47:48\",\"sender_id\":\"710eda3f5b32411fb607a1a69a182c69aqua\"}'\n",
      "Message published successfully.  b'{\"latitude\":-37.903,\"longitude\":145.25,\"confidence\":53.0,\"surface_temperature_celcius\":44.0,\"created_time\":\"14-11-2019 22:47:55\",\"sender_id\":\"710eda3f5b32411fb607a1a69a182c69aqua\"}'\n",
      "Message published successfully.  b'{\"latitude\":-38.0427,\"longitude\":146.3979,\"confidence\":78.0,\"surface_temperature_celcius\":56.0,\"created_time\":\"14-11-2019 22:48:02\",\"sender_id\":\"710eda3f5b32411fb607a1a69a182c69aqua\"}'\n",
      "Message published successfully.  b'{\"latitude\":-36.575,\"longitude\":146.6668,\"confidence\":56.0,\"surface_temperature_celcius\":40.0,\"created_time\":\"14-11-2019 22:48:09\",\"sender_id\":\"710eda3f5b32411fb607a1a69a182c69aqua\"}'\n",
      "Message published successfully.  b'{\"latitude\":-36.4466,\"longitude\":141.2471,\"confidence\":51.0,\"surface_temperature_celcius\":40.0,\"created_time\":\"14-11-2019 22:48:16\",\"sender_id\":\"710eda3f5b32411fb607a1a69a182c69aqua\"}'\n",
      "Message published successfully.  b'{\"latitude\":-37.3359,\"longitude\":149.3816,\"confidence\":51.0,\"surface_temperature_celcius\":48.0,\"created_time\":\"14-11-2019 22:48:23\",\"sender_id\":\"710eda3f5b32411fb607a1a69a182c69aqua\"}'\n",
      "Message published successfully.  b'{\"latitude\":-36.009,\"longitude\":143.185,\"confidence\":72.0,\"surface_temperature_celcius\":39.0,\"created_time\":\"14-11-2019 22:48:30\",\"sender_id\":\"710eda3f5b32411fb607a1a69a182c69aqua\"}'\n",
      "Message published successfully.  b'{\"latitude\":-37.386,\"longitude\":148.043,\"confidence\":84.0,\"surface_temperature_celcius\":55.0,\"created_time\":\"14-11-2019 22:48:37\",\"sender_id\":\"710eda3f5b32411fb607a1a69a182c69aqua\"}'\n",
      "Message published successfully.  b'{\"latitude\":-37.087,\"longitude\":145.363,\"confidence\":91.0,\"surface_temperature_celcius\":42.0,\"created_time\":\"14-11-2019 22:48:45\",\"sender_id\":\"710eda3f5b32411fb607a1a69a182c69aqua\"}'\n",
      "Message published successfully.  b'{\"latitude\":-34.5019,\"longitude\":141.3528,\"confidence\":71.0,\"surface_temperature_celcius\":46.0,\"created_time\":\"14-11-2019 22:48:52\",\"sender_id\":\"710eda3f5b32411fb607a1a69a182c69aqua\"}'\n",
      "Message published successfully.  b'{\"latitude\":-35.7598,\"longitude\":143.851,\"confidence\":72.0,\"surface_temperature_celcius\":46.0,\"created_time\":\"14-11-2019 22:48:59\",\"sender_id\":\"710eda3f5b32411fb607a1a69a182c69aqua\"}'\n",
      "Message published successfully.  b'{\"latitude\":-37.0719,\"longitude\":145.3572,\"confidence\":76.0,\"surface_temperature_celcius\":49.0,\"created_time\":\"14-11-2019 22:49:06\",\"sender_id\":\"710eda3f5b32411fb607a1a69a182c69aqua\"}'\n",
      "Message published successfully.  b'{\"latitude\":-37.5135,\"longitude\":142.7238,\"confidence\":93.0,\"surface_temperature_celcius\":72.0,\"created_time\":\"14-11-2019 22:49:13\",\"sender_id\":\"710eda3f5b32411fb607a1a69a182c69aqua\"}'\n",
      "Message published successfully.  b'{\"latitude\":-38.5675,\"longitude\":146.4563,\"confidence\":68.0,\"surface_temperature_celcius\":44.0,\"created_time\":\"14-11-2019 22:49:20\",\"sender_id\":\"710eda3f5b32411fb607a1a69a182c69aqua\"}'\n",
      "Message published successfully.  b'{\"latitude\":-36.2443,\"longitude\":141.3069,\"confidence\":86.0,\"surface_temperature_celcius\":61.0,\"created_time\":\"14-11-2019 22:49:27\",\"sender_id\":\"710eda3f5b32411fb607a1a69a182c69aqua\"}'\n",
      "Message published successfully.  b'{\"latitude\":-37.8429,\"longitude\":143.8366,\"confidence\":100.0,\"surface_temperature_celcius\":88.0,\"created_time\":\"14-11-2019 22:49:34\",\"sender_id\":\"710eda3f5b32411fb607a1a69a182c69aqua\"}'\n",
      "Message published successfully.  b'{\"latitude\":-35.1949,\"longitude\":141.0622,\"confidence\":90.0,\"surface_temperature_celcius\":66.0,\"created_time\":\"14-11-2019 22:49:42\",\"sender_id\":\"710eda3f5b32411fb607a1a69a182c69aqua\"}'\n",
      "Message published successfully.  b'{\"latitude\":-37.2912,\"longitude\":143.543,\"confidence\":66.0,\"surface_temperature_celcius\":43.0,\"created_time\":\"14-11-2019 22:49:49\",\"sender_id\":\"710eda3f5b32411fb607a1a69a182c69aqua\"}'\n",
      "Message published successfully.  b'{\"latitude\":-36.0201,\"longitude\":143.7775,\"confidence\":62.0,\"surface_temperature_celcius\":41.0,\"created_time\":\"14-11-2019 22:49:56\",\"sender_id\":\"710eda3f5b32411fb607a1a69a182c69aqua\"}'\n",
      "Message published successfully.  b'{\"latitude\":-37.467,\"longitude\":148.127,\"confidence\":89.0,\"surface_temperature_celcius\":61.0,\"created_time\":\"14-11-2019 22:50:03\",\"sender_id\":\"710eda3f5b32411fb607a1a69a182c69aqua\"}'\n",
      "Message published successfully.  b'{\"latitude\":-36.1104,\"longitude\":145.9829,\"confidence\":90.0,\"surface_temperature_celcius\":76.0,\"created_time\":\"14-11-2019 22:50:10\",\"sender_id\":\"710eda3f5b32411fb607a1a69a182c69aqua\"}'\n",
      "Message published successfully.  b'{\"latitude\":-35.6922,\"longitude\":143.1619,\"confidence\":100.0,\"surface_temperature_celcius\":49.0,\"created_time\":\"14-11-2019 22:50:17\",\"sender_id\":\"710eda3f5b32411fb607a1a69a182c69aqua\"}'\n",
      "Message published successfully.  b'{\"latitude\":-37.9388,\"longitude\":143.7329,\"confidence\":66.0,\"surface_temperature_celcius\":43.0,\"created_time\":\"14-11-2019 22:50:24\",\"sender_id\":\"710eda3f5b32411fb607a1a69a182c69aqua\"}'\n",
      "Message published successfully.  b'{\"latitude\":-37.249,\"longitude\":143.413,\"confidence\":72.0,\"surface_temperature_celcius\":40.0,\"created_time\":\"14-11-2019 22:50:32\",\"sender_id\":\"710eda3f5b32411fb607a1a69a182c69aqua\"}'\n",
      "Message published successfully.  b'{\"latitude\":-36.4553,\"longitude\":142.8786,\"confidence\":76.0,\"surface_temperature_celcius\":49.0,\"created_time\":\"14-11-2019 22:50:39\",\"sender_id\":\"710eda3f5b32411fb607a1a69a182c69aqua\"}'\n",
      "Message published successfully.  b'{\"latitude\":-37.7974,\"longitude\":148.5498,\"confidence\":60.0,\"surface_temperature_celcius\":53.0,\"created_time\":\"14-11-2019 22:50:46\",\"sender_id\":\"710eda3f5b32411fb607a1a69a182c69aqua\"}'\n",
      "Message published successfully.  b'{\"latitude\":-37.7212,\"longitude\":145.9754,\"confidence\":58.0,\"surface_temperature_celcius\":52.0,\"created_time\":\"14-11-2019 22:50:53\",\"sender_id\":\"710eda3f5b32411fb607a1a69a182c69aqua\"}'\n",
      "Message published successfully.  b'{\"latitude\":-38.1562,\"longitude\":143.0589,\"confidence\":87.0,\"surface_temperature_celcius\":62.0,\"created_time\":\"14-11-2019 22:51:00\",\"sender_id\":\"710eda3f5b32411fb607a1a69a182c69aqua\"}'\n",
      "Message published successfully.  b'{\"latitude\":-37.4796,\"longitude\":141.9403,\"confidence\":94.0,\"surface_temperature_celcius\":87.0,\"created_time\":\"14-11-2019 22:51:07\",\"sender_id\":\"710eda3f5b32411fb607a1a69a182c69aqua\"}'\n",
      "Message published successfully.  b'{\"latitude\":-36.8248,\"longitude\":142.625,\"confidence\":72.0,\"surface_temperature_celcius\":47.0,\"created_time\":\"14-11-2019 22:51:14\",\"sender_id\":\"710eda3f5b32411fb607a1a69a182c69aqua\"}'\n",
      "Message published successfully.  b'{\"latitude\":-36.4061,\"longitude\":143.0987,\"confidence\":64.0,\"surface_temperature_celcius\":42.0,\"created_time\":\"14-11-2019 22:51:21\",\"sender_id\":\"710eda3f5b32411fb607a1a69a182c69aqua\"}'\n",
      "Message published successfully.  b'{\"latitude\":-36.6672,\"longitude\":143.8631,\"confidence\":79.0,\"surface_temperature_celcius\":52.0,\"created_time\":\"14-11-2019 22:51:28\",\"sender_id\":\"710eda3f5b32411fb607a1a69a182c69aqua\"}'\n"
     ]
    },
    {
     "name": "stdout",
     "output_type": "stream",
     "text": [
      "Message published successfully.  b'{\"latitude\":-37.719,\"longitude\":142.154,\"confidence\":63.0,\"surface_temperature_celcius\":41.0,\"created_time\":\"14-11-2019 22:51:36\",\"sender_id\":\"710eda3f5b32411fb607a1a69a182c69aqua\"}'\n",
      "Message published successfully.  b'{\"latitude\":-37.585,\"longitude\":148.032,\"confidence\":80.0,\"surface_temperature_celcius\":50.0,\"created_time\":\"14-11-2019 22:51:43\",\"sender_id\":\"710eda3f5b32411fb607a1a69a182c69aqua\"}'\n",
      "Message published successfully.  b'{\"latitude\":-36.7611,\"longitude\":141.6048,\"confidence\":68.0,\"surface_temperature_celcius\":44.0,\"created_time\":\"14-11-2019 22:51:50\",\"sender_id\":\"710eda3f5b32411fb607a1a69a182c69aqua\"}'\n",
      "Message published successfully.  b'{\"latitude\":-36.4274,\"longitude\":142.1944,\"confidence\":71.0,\"surface_temperature_celcius\":46.0,\"created_time\":\"14-11-2019 22:51:57\",\"sender_id\":\"710eda3f5b32411fb607a1a69a182c69aqua\"}'\n",
      "Message published successfully.  b'{\"latitude\":-36.8272,\"longitude\":142.2097,\"confidence\":84.0,\"surface_temperature_celcius\":57.0,\"created_time\":\"14-11-2019 22:52:04\",\"sender_id\":\"710eda3f5b32411fb607a1a69a182c69aqua\"}'\n",
      "Message published successfully.  b'{\"latitude\":-34.2695,\"longitude\":142.2025,\"confidence\":80.0,\"surface_temperature_celcius\":54.0,\"created_time\":\"14-11-2019 22:52:11\",\"sender_id\":\"710eda3f5b32411fb607a1a69a182c69aqua\"}'\n",
      "Message published successfully.  b'{\"latitude\":-35.1857,\"longitude\":141.0604,\"confidence\":100.0,\"surface_temperature_celcius\":92.0,\"created_time\":\"14-11-2019 22:52:18\",\"sender_id\":\"710eda3f5b32411fb607a1a69a182c69aqua\"}'\n",
      "Message published successfully.  b'{\"latitude\":-35.1113,\"longitude\":141.1635,\"confidence\":72.0,\"surface_temperature_celcius\":46.0,\"created_time\":\"14-11-2019 22:52:26\",\"sender_id\":\"710eda3f5b32411fb607a1a69a182c69aqua\"}'\n",
      "Message published successfully.  b'{\"latitude\":-36.3864,\"longitude\":141.3034,\"confidence\":80.0,\"surface_temperature_celcius\":54.0,\"created_time\":\"14-11-2019 22:52:33\",\"sender_id\":\"710eda3f5b32411fb607a1a69a182c69aqua\"}'\n",
      "Message published successfully.  b'{\"latitude\":-37.0046,\"longitude\":141.8047,\"confidence\":75.0,\"surface_temperature_celcius\":49.0,\"created_time\":\"14-11-2019 22:52:40\",\"sender_id\":\"710eda3f5b32411fb607a1a69a182c69aqua\"}'\n",
      "Message published successfully.  b'{\"latitude\":-37.0684,\"longitude\":141.0437,\"confidence\":71.0,\"surface_temperature_celcius\":45.0,\"created_time\":\"14-11-2019 22:52:47\",\"sender_id\":\"710eda3f5b32411fb607a1a69a182c69aqua\"}'\n",
      "Message published successfully.  b'{\"latitude\":-36.8299,\"longitude\":146.1897,\"confidence\":91.0,\"surface_temperature_celcius\":43.0,\"created_time\":\"14-11-2019 22:52:54\",\"sender_id\":\"710eda3f5b32411fb607a1a69a182c69aqua\"}'\n"
     ]
    },
    {
     "ename": "KeyboardInterrupt",
     "evalue": "",
     "output_type": "error",
     "traceback": [
      "\u001b[0;31m---------------------------------------------------------------------------\u001b[0m",
      "\u001b[0;31mKeyboardInterrupt\u001b[0m                         Traceback (most recent call last)",
      "\u001b[0;32m<ipython-input-1-4c031423d98c>\u001b[0m in \u001b[0;36m<module>\u001b[0;34m\u001b[0m\n\u001b[1;32m     47\u001b[0m             \u001b[0mrow\u001b[0m\u001b[0;34m[\u001b[0m\u001b[0;34m'sender_id'\u001b[0m\u001b[0;34m]\u001b[0m \u001b[0;34m=\u001b[0m \u001b[0msender_id\u001b[0m\u001b[0;34m\u001b[0m\u001b[0;34m\u001b[0m\u001b[0m\n\u001b[1;32m     48\u001b[0m             \u001b[0mpublish_message\u001b[0m\u001b[0;34m(\u001b[0m\u001b[0mproducer\u001b[0m\u001b[0;34m,\u001b[0m \u001b[0mtopic\u001b[0m\u001b[0;34m,\u001b[0m \u001b[0mrow\u001b[0m\u001b[0;34m)\u001b[0m\u001b[0;34m\u001b[0m\u001b[0;34m\u001b[0m\u001b[0m\n\u001b[0;32m---> 49\u001b[0;31m             \u001b[0msleep\u001b[0m\u001b[0;34m(\u001b[0m\u001b[0;36m7\u001b[0m\u001b[0;34m)\u001b[0m \u001b[0;31m# We have considered this so that we can get more data into db\u001b[0m\u001b[0;34m\u001b[0m\u001b[0;34m\u001b[0m\u001b[0m\n\u001b[0m\u001b[1;32m     50\u001b[0m             \u001b[0;31m#The actual value should be random.randint(10,30)\u001b[0m\u001b[0;34m\u001b[0m\u001b[0;34m\u001b[0m\u001b[0;34m\u001b[0m\u001b[0m\n\u001b[1;32m     51\u001b[0m         \u001b[0;32mexcept\u001b[0m \u001b[0mException\u001b[0m \u001b[0;32mas\u001b[0m \u001b[0me\u001b[0m\u001b[0;34m:\u001b[0m\u001b[0;34m\u001b[0m\u001b[0;34m\u001b[0m\u001b[0m\n",
      "\u001b[0;31mKeyboardInterrupt\u001b[0m: "
     ]
    }
   ],
   "source": [
    "# import statements\n",
    "from time import sleep\n",
    "from json import dumps\n",
    "from kafka import KafkaProducer\n",
    "import uuid\n",
    "import random\n",
    "import datetime as dt\n",
    "import pandas as pd\n",
    "\n",
    "# publish data to Kafka\n",
    "def publish_message(producer_instance, topic_name, data):\n",
    "    try:\n",
    "        json_data = data.to_json().encode('utf-8')\n",
    "        producer_instance.send(topic_name, value=json_data) # encode data and send to topic\n",
    "        print('Message published successfully. ', json_data)\n",
    "    except Exception as ex:\n",
    "        print('Exception in publishing message.')\n",
    "        print(str(ex))\n",
    "\n",
    "#connnecting to kafka\n",
    "def connect_kafka_producer():\n",
    "    _producer = None\n",
    "    try:\n",
    "        _producer = KafkaProducer(bootstrap_servers=['127.0.0.1:9092'],\n",
    "                                  api_version=(0, 10))\n",
    "    except Exception as ex:\n",
    "        print('Exception while connecting Kafka.')\n",
    "        print(str(ex))\n",
    "    finally:\n",
    "        return _producer\n",
    "    \n",
    "if __name__ == '__main__':\n",
    "   \n",
    "    data_frame = pd.read_csv(\"./Assignment Data-20190504/hotspot_AQUA_streaming.csv\")\n",
    "    sender_id = uuid.uuid4().hex+\"aqua\" # create a unique sender id\n",
    "    \n",
    "    topic = 'climateHotspotData'\n",
    "    \n",
    "    print('Publishing records..')\n",
    "    producer = connect_kafka_producer() # Creating a connection to Kafka\n",
    "\n",
    "    while True:\n",
    "        try:\n",
    "            # converting the rows and adding creation time and senderid\n",
    "            row = data_frame.iloc[random.randrange(len(data_frame))]\n",
    "            row['created_time']= dt.datetime.now().strftime(\"%d-%m-%Y %H:%M:%S\")\n",
    "            row['sender_id'] = sender_id\n",
    "            publish_message(producer, topic, row)\n",
    "            sleep(7) # We have considered this so that we can get more data into db\n",
    "            #The actual value should be random.randint(10,30)\n",
    "        except Exception as e:\n",
    "            print('Exception in adding creation time and sender_id and publishing message.')\n",
    "            print(str(ex))"
   ]
  },
  {
   "cell_type": "code",
   "execution_count": null,
   "metadata": {},
   "outputs": [],
   "source": []
  },
  {
   "cell_type": "code",
   "execution_count": null,
   "metadata": {},
   "outputs": [],
   "source": []
  }
 ],
 "metadata": {
  "kernelspec": {
   "display_name": "Python 3",
   "language": "python",
   "name": "python3"
  },
  "language_info": {
   "codemirror_mode": {
    "name": "ipython",
    "version": 3
   },
   "file_extension": ".py",
   "mimetype": "text/x-python",
   "name": "python",
   "nbconvert_exporter": "python",
   "pygments_lexer": "ipython3",
   "version": "3.6.8"
  }
 },
 "nbformat": 4,
 "nbformat_minor": 2
}
