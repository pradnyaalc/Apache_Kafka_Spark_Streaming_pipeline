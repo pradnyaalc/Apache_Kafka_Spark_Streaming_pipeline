{
 "cells": [
  {
   "cell_type": "code",
   "execution_count": 1,
   "metadata": {},
   "outputs": [
    {
     "name": "stdout",
     "output_type": "stream",
     "text": [
      "Publishing records to topic  climateHotspotData\n"
     ]
    },
    {
     "name": "stderr",
     "output_type": "stream",
     "text": [
      "/usr/local/lib/python3.6/dist-packages/ipykernel_launcher.py:47: SettingWithCopyWarning: \n",
      "A value is trying to be set on a copy of a slice from a DataFrame\n",
      "\n",
      "See the caveats in the documentation: http://pandas.pydata.org/pandas-docs/stable/indexing.html#indexing-view-versus-copy\n",
      "/usr/local/lib/python3.6/dist-packages/pandas/core/series.py:915: SettingWithCopyWarning: \n",
      "A value is trying to be set on a copy of a slice from a DataFrame\n",
      "\n",
      "See the caveats in the documentation: http://pandas.pydata.org/pandas-docs/stable/indexing.html#indexing-view-versus-copy\n",
      "  self.loc[key] = value\n",
      "/usr/local/lib/python3.6/dist-packages/ipykernel_launcher.py:48: SettingWithCopyWarning: \n",
      "A value is trying to be set on a copy of a slice from a DataFrame\n",
      "\n",
      "See the caveats in the documentation: http://pandas.pydata.org/pandas-docs/stable/indexing.html#indexing-view-versus-copy\n"
     ]
    },
    {
     "name": "stdout",
     "output_type": "stream",
     "text": [
      "Message published successfully.  b'{\"latitude\":-37.38,\"longitude\":149.334,\"air_temperature_celcius\":16,\"relative_humidity\":48.2,\"windspeed_knots\":9.9,\"max_wind_speed\":18.1,\"precipitation \":\" 0.01G\",\"created_time\":\"14-11-2019 22:46:53\",\"sender_id\":\"823d2f70dd754ccfa41ab48515635305climate\"}'\n",
      "Message published successfully.  b'{\"latitude\":-37.758,\"longitude\":148.721,\"air_temperature_celcius\":9,\"relative_humidity\":41.2,\"windspeed_knots\":9.8,\"max_wind_speed\":15.9,\"precipitation \":\" 0.00I\",\"created_time\":\"14-11-2019 22:46:58\",\"sender_id\":\"823d2f70dd754ccfa41ab48515635305climate\"}'\n",
      "Message published successfully.  b'{\"latitude\":-35.963,\"longitude\":141.078,\"air_temperature_celcius\":5,\"relative_humidity\":33.1,\"windspeed_knots\":5.8,\"max_wind_speed\":14.0,\"precipitation \":\" 0.00I\",\"created_time\":\"14-11-2019 22:47:04\",\"sender_id\":\"823d2f70dd754ccfa41ab48515635305climate\"}'\n",
      "Message published successfully.  b'{\"latitude\":-37.627,\"longitude\":149.261,\"air_temperature_celcius\":26,\"relative_humidity\":53.7,\"windspeed_knots\":8.7,\"max_wind_speed\":15.0,\"precipitation \":\" 0.00I\",\"created_time\":\"14-11-2019 22:47:09\",\"sender_id\":\"823d2f70dd754ccfa41ab48515635305climate\"}'\n",
      "Message published successfully.  b'{\"latitude\":-37.34,\"longitude\":143.123,\"air_temperature_celcius\":19,\"relative_humidity\":52.8,\"windspeed_knots\":12.5,\"max_wind_speed\":21.0,\"precipitation \":\" 0.47G\",\"created_time\":\"14-11-2019 22:47:14\",\"sender_id\":\"823d2f70dd754ccfa41ab48515635305climate\"}'\n",
      "Message published successfully.  b'{\"latitude\":-36.282,\"longitude\":146.157,\"air_temperature_celcius\":17,\"relative_humidity\":50.4,\"windspeed_knots\":11.9,\"max_wind_speed\":16.9,\"precipitation \":\" 0.00G\",\"created_time\":\"14-11-2019 22:47:19\",\"sender_id\":\"823d2f70dd754ccfa41ab48515635305climate\"}'\n",
      "Message published successfully.  b'{\"latitude\":-36.7084,\"longitude\":142.7354,\"air_temperature_celcius\":13,\"relative_humidity\":44.1,\"windspeed_knots\":12.9,\"max_wind_speed\":19.0,\"precipitation \":\" 0.02G\",\"created_time\":\"14-11-2019 22:47:24\",\"sender_id\":\"823d2f70dd754ccfa41ab48515635305climate\"}'\n",
      "Message published successfully.  b'{\"latitude\":-37.386,\"longitude\":148.043,\"air_temperature_celcius\":8,\"relative_humidity\":43.3,\"windspeed_knots\":3.9,\"max_wind_speed\":8.0,\"precipitation \":\" 0.00I\",\"created_time\":\"14-11-2019 22:47:29\",\"sender_id\":\"823d2f70dd754ccfa41ab48515635305climate\"}'\n",
      "Message published successfully.  b'{\"latitude\":-36.369,\"longitude\":143.7132,\"air_temperature_celcius\":13,\"relative_humidity\":50.1,\"windspeed_knots\":8.5,\"max_wind_speed\":12.0,\"precipitation \":\" 0.08G\",\"created_time\":\"14-11-2019 22:47:34\",\"sender_id\":\"823d2f70dd754ccfa41ab48515635305climate\"}'\n",
      "Message published successfully.  b'{\"latitude\":-37.475,\"longitude\":148.134,\"air_temperature_celcius\":8,\"relative_humidity\":43.1,\"windspeed_knots\":3.4,\"max_wind_speed\":7.0,\"precipitation \":\" 0.00I\",\"created_time\":\"14-11-2019 22:47:39\",\"sender_id\":\"823d2f70dd754ccfa41ab48515635305climate\"}'\n",
      "Message published successfully.  b'{\"latitude\":-37.642,\"longitude\":149.263,\"air_temperature_celcius\":20,\"relative_humidity\":55.8,\"windspeed_knots\":10.5,\"max_wind_speed\":15.9,\"precipitation \":\" 0.01G\",\"created_time\":\"14-11-2019 22:47:45\",\"sender_id\":\"823d2f70dd754ccfa41ab48515635305climate\"}'\n",
      "Message published successfully.  b'{\"latitude\":-36.285,\"longitude\":146.151,\"air_temperature_celcius\":19,\"relative_humidity\":56.3,\"windspeed_knots\":5.8,\"max_wind_speed\":8.9,\"precipitation \":\" 0.00I\",\"created_time\":\"14-11-2019 22:47:50\",\"sender_id\":\"823d2f70dd754ccfa41ab48515635305climate\"}'\n",
      "Message published successfully.  b'{\"latitude\":-37.0745,\"longitude\":141.0692,\"air_temperature_celcius\":9,\"relative_humidity\":40.4,\"windspeed_knots\":6.9,\"max_wind_speed\":9.9,\"precipitation \":\" 0.02G\",\"created_time\":\"14-11-2019 22:47:55\",\"sender_id\":\"823d2f70dd754ccfa41ab48515635305climate\"}'\n",
      "Message published successfully.  b'{\"latitude\":-36.284,\"longitude\":146.145,\"air_temperature_celcius\":19,\"relative_humidity\":54.1,\"windspeed_knots\":11.2,\"max_wind_speed\":18.1,\"precipitation \":\" 0.31G\",\"created_time\":\"14-11-2019 22:48:00\",\"sender_id\":\"823d2f70dd754ccfa41ab48515635305climate\"}'\n",
      "Message published successfully.  b'{\"latitude\":-38.231,\"longitude\":147.172,\"air_temperature_celcius\":24,\"relative_humidity\":61.6,\"windspeed_knots\":7.7,\"max_wind_speed\":14.0,\"precipitation \":\" 0.00I\",\"created_time\":\"14-11-2019 22:48:05\",\"sender_id\":\"823d2f70dd754ccfa41ab48515635305climate\"}'\n",
      "Message published successfully.  b'{\"latitude\":-37.437,\"longitude\":148.104,\"air_temperature_celcius\":12,\"relative_humidity\":40.7,\"windspeed_knots\":16.7,\"max_wind_speed\":21.0,\"precipitation \":\" 0.12G\",\"created_time\":\"14-11-2019 22:48:10\",\"sender_id\":\"823d2f70dd754ccfa41ab48515635305climate\"}'\n",
      "Message published successfully.  b'{\"latitude\":-37.453,\"longitude\":148.099,\"air_temperature_celcius\":10,\"relative_humidity\":45.7,\"windspeed_knots\":3.6,\"max_wind_speed\":7.0,\"precipitation \":\" 0.01G\",\"created_time\":\"14-11-2019 22:48:15\",\"sender_id\":\"823d2f70dd754ccfa41ab48515635305climate\"}'\n",
      "Message published successfully.  b'{\"latitude\":-37.1815,\"longitude\":146.7777,\"air_temperature_celcius\":17,\"relative_humidity\":50.4,\"windspeed_knots\":10.8,\"max_wind_speed\":16.9,\"precipitation \":\" 0.00I\",\"created_time\":\"14-11-2019 22:48:20\",\"sender_id\":\"823d2f70dd754ccfa41ab48515635305climate\"}'\n",
      "Message published successfully.  b'{\"latitude\":-37.69,\"longitude\":143.605,\"air_temperature_celcius\":14,\"relative_humidity\":45.7,\"windspeed_knots\":9.2,\"max_wind_speed\":15.9,\"precipitation \":\" 0.00I\",\"created_time\":\"14-11-2019 22:48:26\",\"sender_id\":\"823d2f70dd754ccfa41ab48515635305climate\"}'\n",
      "Message published successfully.  b'{\"latitude\":-36.0005,\"longitude\":143.1847,\"air_temperature_celcius\":17,\"relative_humidity\":52.5,\"windspeed_knots\":7.7,\"max_wind_speed\":16.9,\"precipitation \":\" 0.00I\",\"created_time\":\"14-11-2019 22:48:31\",\"sender_id\":\"823d2f70dd754ccfa41ab48515635305climate\"}'\n",
      "Message published successfully.  b'{\"latitude\":-35.957,\"longitude\":141.088,\"air_temperature_celcius\":9,\"relative_humidity\":42.4,\"windspeed_knots\":7.2,\"max_wind_speed\":9.9,\"precipitation \":\" 0.00I\",\"created_time\":\"14-11-2019 22:48:36\",\"sender_id\":\"823d2f70dd754ccfa41ab48515635305climate\"}'\n",
      "Message published successfully.  b'{\"latitude\":-36.4553,\"longitude\":142.8786,\"air_temperature_celcius\":19,\"relative_humidity\":55.3,\"windspeed_knots\":6.2,\"max_wind_speed\":12.0,\"precipitation \":\" 0.00I\",\"created_time\":\"14-11-2019 22:48:41\",\"sender_id\":\"823d2f70dd754ccfa41ab48515635305climate\"}'\n",
      "Message published successfully.  b'{\"latitude\":-37.627,\"longitude\":149.261,\"air_temperature_celcius\":26,\"relative_humidity\":53.7,\"windspeed_knots\":8.7,\"max_wind_speed\":15.0,\"precipitation \":\" 0.00I\",\"created_time\":\"14-11-2019 22:48:46\",\"sender_id\":\"823d2f70dd754ccfa41ab48515635305climate\"}'\n",
      "Message published successfully.  b'{\"latitude\":-36.1,\"longitude\":143.772,\"air_temperature_celcius\":18,\"relative_humidity\":58.9,\"windspeed_knots\":5.5,\"max_wind_speed\":14.0,\"precipitation \":\" 0.08G\",\"created_time\":\"14-11-2019 22:48:51\",\"sender_id\":\"823d2f70dd754ccfa41ab48515635305climate\"}'\n",
      "Message published successfully.  b'{\"latitude\":-37.368,\"longitude\":148.05,\"air_temperature_celcius\":10,\"relative_humidity\":41.4,\"windspeed_knots\":9.4,\"max_wind_speed\":14.0,\"precipitation \":\" 0.00I\",\"created_time\":\"14-11-2019 22:48:56\",\"sender_id\":\"823d2f70dd754ccfa41ab48515635305climate\"}'\n",
      "Message published successfully.  b'{\"latitude\":-36.1346,\"longitude\":145.2196,\"air_temperature_celcius\":8,\"relative_humidity\":37.2,\"windspeed_knots\":5.5,\"max_wind_speed\":11.1,\"precipitation \":\" 0.00G\",\"created_time\":\"14-11-2019 22:49:01\",\"sender_id\":\"823d2f70dd754ccfa41ab48515635305climate\"}'\n",
      "Message published successfully.  b'{\"latitude\":-35.321,\"longitude\":143.502,\"air_temperature_celcius\":12,\"relative_humidity\":44.0,\"windspeed_knots\":4.7,\"max_wind_speed\":7.0,\"precipitation \":\" 0.00G\",\"created_time\":\"14-11-2019 22:49:07\",\"sender_id\":\"823d2f70dd754ccfa41ab48515635305climate\"}'\n",
      "Message published successfully.  b'{\"latitude\":-37.758,\"longitude\":144.693,\"air_temperature_celcius\":20,\"relative_humidity\":58.8,\"windspeed_knots\":11.5,\"max_wind_speed\":15.9,\"precipitation \":\" 0.00I\",\"created_time\":\"14-11-2019 22:49:12\",\"sender_id\":\"823d2f70dd754ccfa41ab48515635305climate\"}'\n",
      "Message published successfully.  b'{\"latitude\":-36.369,\"longitude\":143.7132,\"air_temperature_celcius\":13,\"relative_humidity\":50.1,\"windspeed_knots\":8.5,\"max_wind_speed\":12.0,\"precipitation \":\" 0.08G\",\"created_time\":\"14-11-2019 22:49:17\",\"sender_id\":\"823d2f70dd754ccfa41ab48515635305climate\"}'\n"
     ]
    },
    {
     "name": "stdout",
     "output_type": "stream",
     "text": [
      "Message published successfully.  b'{\"latitude\":-37.886,\"longitude\":147.207,\"air_temperature_celcius\":19,\"relative_humidity\":54.3,\"windspeed_knots\":5.9,\"max_wind_speed\":12.0,\"precipitation \":\" 0.00I\",\"created_time\":\"14-11-2019 22:49:22\",\"sender_id\":\"823d2f70dd754ccfa41ab48515635305climate\"}'\n",
      "Message published successfully.  b'{\"latitude\":-36.152,\"longitude\":143.578,\"air_temperature_celcius\":15,\"relative_humidity\":56.1,\"windspeed_knots\":5.1,\"max_wind_speed\":9.9,\"precipitation \":\" 0.00I\",\"created_time\":\"14-11-2019 22:49:27\",\"sender_id\":\"823d2f70dd754ccfa41ab48515635305climate\"}'\n",
      "Message published successfully.  b'{\"latitude\":-37.6745,\"longitude\":142.9848,\"air_temperature_celcius\":15,\"relative_humidity\":44.5,\"windspeed_knots\":10.2,\"max_wind_speed\":14.0,\"precipitation \":\" 0.00G\",\"created_time\":\"14-11-2019 22:49:32\",\"sender_id\":\"823d2f70dd754ccfa41ab48515635305climate\"}'\n",
      "Message published successfully.  b'{\"latitude\":-36.5507,\"longitude\":142.5788,\"air_temperature_celcius\":17,\"relative_humidity\":51.2,\"windspeed_knots\":9.9,\"max_wind_speed\":18.1,\"precipitation \":\" 0.00G\",\"created_time\":\"14-11-2019 22:49:37\",\"sender_id\":\"823d2f70dd754ccfa41ab48515635305climate\"}'\n",
      "Message published successfully.  b'{\"latitude\":-36.6511,\"longitude\":143.915,\"air_temperature_celcius\":13,\"relative_humidity\":46.2,\"windspeed_knots\":5.6,\"max_wind_speed\":12.0,\"precipitation \":\" 0.00I\",\"created_time\":\"14-11-2019 22:49:43\",\"sender_id\":\"823d2f70dd754ccfa41ab48515635305climate\"}'\n",
      "Message published successfully.  b'{\"latitude\":-37.586,\"longitude\":141.271,\"air_temperature_celcius\":19,\"relative_humidity\":60.5,\"windspeed_knots\":7.0,\"max_wind_speed\":11.1,\"precipitation \":\" 0.83G\",\"created_time\":\"14-11-2019 22:49:48\",\"sender_id\":\"823d2f70dd754ccfa41ab48515635305climate\"}'\n",
      "Message published successfully.  b'{\"latitude\":-35.321,\"longitude\":143.502,\"air_temperature_celcius\":12,\"relative_humidity\":44.0,\"windspeed_knots\":4.7,\"max_wind_speed\":7.0,\"precipitation \":\" 0.00G\",\"created_time\":\"14-11-2019 22:49:53\",\"sender_id\":\"823d2f70dd754ccfa41ab48515635305climate\"}'\n",
      "Message published successfully.  b'{\"latitude\":-37.946,\"longitude\":144.342,\"air_temperature_celcius\":21,\"relative_humidity\":54.9,\"windspeed_knots\":7.4,\"max_wind_speed\":16.9,\"precipitation \":\" 0.00I\",\"created_time\":\"14-11-2019 22:49:58\",\"sender_id\":\"823d2f70dd754ccfa41ab48515635305climate\"}'\n",
      "Message published successfully.  b'{\"latitude\":-37.38,\"longitude\":148.053,\"air_temperature_celcius\":14,\"relative_humidity\":51.0,\"windspeed_knots\":9.9,\"max_wind_speed\":15.0,\"precipitation \":\" 0.00I\",\"created_time\":\"14-11-2019 22:50:03\",\"sender_id\":\"823d2f70dd754ccfa41ab48515635305climate\"}'\n",
      "Message published successfully.  b'{\"latitude\":-36.4274,\"longitude\":142.1944,\"air_temperature_celcius\":22,\"relative_humidity\":46.9,\"windspeed_knots\":12.9,\"max_wind_speed\":19.0,\"precipitation \":\" 0.00I\",\"created_time\":\"14-11-2019 22:50:08\",\"sender_id\":\"823d2f70dd754ccfa41ab48515635305climate\"}'\n",
      "Message published successfully.  b'{\"latitude\":-37.462,\"longitude\":148.089,\"air_temperature_celcius\":8,\"relative_humidity\":40.7,\"windspeed_knots\":5.3,\"max_wind_speed\":12.0,\"precipitation \":\" 0.00G\",\"created_time\":\"14-11-2019 22:50:13\",\"sender_id\":\"823d2f70dd754ccfa41ab48515635305climate\"}'\n",
      "Message published successfully.  b'{\"latitude\":-37.5915,\"longitude\":143.0015,\"air_temperature_celcius\":17,\"relative_humidity\":52.0,\"windspeed_knots\":8.8,\"max_wind_speed\":15.0,\"precipitation \":\" 0.00I\",\"created_time\":\"14-11-2019 22:50:18\",\"sender_id\":\"823d2f70dd754ccfa41ab48515635305climate\"}'\n",
      "Message published successfully.  b'{\"latitude\":-36.098,\"longitude\":143.735,\"air_temperature_celcius\":17,\"relative_humidity\":58.1,\"windspeed_knots\":11.7,\"max_wind_speed\":19.0,\"precipitation \":\" 0.04G\",\"created_time\":\"14-11-2019 22:50:24\",\"sender_id\":\"823d2f70dd754ccfa41ab48515635305climate\"}'\n",
      "Message published successfully.  b'{\"latitude\":-36.294,\"longitude\":146.149,\"air_temperature_celcius\":20,\"relative_humidity\":57.7,\"windspeed_knots\":9.9,\"max_wind_speed\":18.1,\"precipitation \":\" 0.00I\",\"created_time\":\"14-11-2019 22:50:29\",\"sender_id\":\"823d2f70dd754ccfa41ab48515635305climate\"}'\n",
      "Message published successfully.  b'{\"latitude\":-37.856,\"longitude\":143.416,\"air_temperature_celcius\":14,\"relative_humidity\":51.0,\"windspeed_knots\":9.1,\"max_wind_speed\":12.0,\"precipitation \":\" 0.00G\",\"created_time\":\"14-11-2019 22:50:34\",\"sender_id\":\"823d2f70dd754ccfa41ab48515635305climate\"}'\n",
      "Message published successfully.  b'{\"latitude\":-37.608,\"longitude\":149.292,\"air_temperature_celcius\":15,\"relative_humidity\":44.6,\"windspeed_knots\":9.7,\"max_wind_speed\":12.0,\"precipitation \":\" 0.02G\",\"created_time\":\"14-11-2019 22:50:39\",\"sender_id\":\"823d2f70dd754ccfa41ab48515635305climate\"}'\n",
      "Message published successfully.  b'{\"latitude\":-36.8867,\"longitude\":142.1873,\"air_temperature_celcius\":14,\"relative_humidity\":39.3,\"windspeed_knots\":17.7,\"max_wind_speed\":30.9,\"precipitation \":\" 0.01G\",\"created_time\":\"14-11-2019 22:50:44\",\"sender_id\":\"823d2f70dd754ccfa41ab48515635305climate\"}'\n",
      "Message published successfully.  b'{\"latitude\":-37.453,\"longitude\":148.118,\"air_temperature_celcius\":6,\"relative_humidity\":39.0,\"windspeed_knots\":1.8,\"max_wind_speed\":5.1,\"precipitation \":\" 0.01G\",\"created_time\":\"14-11-2019 22:50:49\",\"sender_id\":\"823d2f70dd754ccfa41ab48515635305climate\"}'\n",
      "Message published successfully.  b'{\"latitude\":-36.098,\"longitude\":143.735,\"air_temperature_celcius\":17,\"relative_humidity\":58.1,\"windspeed_knots\":11.7,\"max_wind_speed\":19.0,\"precipitation \":\" 0.04G\",\"created_time\":\"14-11-2019 22:50:54\",\"sender_id\":\"823d2f70dd754ccfa41ab48515635305climate\"}'\n",
      "Message published successfully.  b'{\"latitude\":-37.864,\"longitude\":144.174,\"air_temperature_celcius\":28,\"relative_humidity\":58.4,\"windspeed_knots\":11.9,\"max_wind_speed\":18.1,\"precipitation \":\" 0.04G\",\"created_time\":\"14-11-2019 22:50:59\",\"sender_id\":\"823d2f70dd754ccfa41ab48515635305climate\"}'\n",
      "Message published successfully.  b'{\"latitude\":-37.945,\"longitude\":144.354,\"air_temperature_celcius\":24,\"relative_humidity\":55.6,\"windspeed_knots\":5.9,\"max_wind_speed\":13.0,\"precipitation \":\" 0.00I\",\"created_time\":\"14-11-2019 22:51:05\",\"sender_id\":\"823d2f70dd754ccfa41ab48515635305climate\"}'\n",
      "Message published successfully.  b'{\"latitude\":-36.7801,\"longitude\":142.7151,\"air_temperature_celcius\":16,\"relative_humidity\":51.7,\"windspeed_knots\":7.4,\"max_wind_speed\":15.0,\"precipitation \":\" 0.00I\",\"created_time\":\"14-11-2019 22:51:10\",\"sender_id\":\"823d2f70dd754ccfa41ab48515635305climate\"}'\n",
      "Message published successfully.  b'{\"latitude\":-36.369,\"longitude\":143.7132,\"air_temperature_celcius\":13,\"relative_humidity\":50.1,\"windspeed_knots\":8.5,\"max_wind_speed\":12.0,\"precipitation \":\" 0.08G\",\"created_time\":\"14-11-2019 22:51:15\",\"sender_id\":\"823d2f70dd754ccfa41ab48515635305climate\"}'\n",
      "Message published successfully.  b'{\"latitude\":-37.336,\"longitude\":148.073,\"air_temperature_celcius\":7,\"relative_humidity\":40.5,\"windspeed_knots\":8.1,\"max_wind_speed\":15.0,\"precipitation \":\" 0.12G\",\"created_time\":\"14-11-2019 22:51:20\",\"sender_id\":\"823d2f70dd754ccfa41ab48515635305climate\"}'\n",
      "Message published successfully.  b'{\"latitude\":-37.719,\"longitude\":142.154,\"air_temperature_celcius\":13,\"relative_humidity\":47.0,\"windspeed_knots\":7.9,\"max_wind_speed\":15.0,\"precipitation \":\" 0.02G\",\"created_time\":\"14-11-2019 22:51:25\",\"sender_id\":\"823d2f70dd754ccfa41ab48515635305climate\"}'\n",
      "Message published successfully.  b'{\"latitude\":-37.415,\"longitude\":148.105,\"air_temperature_celcius\":12,\"relative_humidity\":47.0,\"windspeed_knots\":7.7,\"max_wind_speed\":15.0,\"precipitation \":\" 0.08G\",\"created_time\":\"14-11-2019 22:51:30\",\"sender_id\":\"823d2f70dd754ccfa41ab48515635305climate\"}'\n",
      "Message published successfully.  b'{\"latitude\":-37.1926,\"longitude\":143.8095,\"air_temperature_celcius\":8,\"relative_humidity\":36.3,\"windspeed_knots\":6.3,\"max_wind_speed\":13.0,\"precipitation \":\" 0.01G\",\"created_time\":\"14-11-2019 22:51:35\",\"sender_id\":\"823d2f70dd754ccfa41ab48515635305climate\"}'\n",
      "Message published successfully.  b'{\"latitude\":-36.346,\"longitude\":143.631,\"air_temperature_celcius\":17,\"relative_humidity\":47.2,\"windspeed_knots\":4.9,\"max_wind_speed\":13.0,\"precipitation \":\" 0.00I\",\"created_time\":\"14-11-2019 22:51:41\",\"sender_id\":\"823d2f70dd754ccfa41ab48515635305climate\"}'\n",
      "Message published successfully.  b'{\"latitude\":-37.38,\"longitude\":149.334,\"air_temperature_celcius\":16,\"relative_humidity\":48.2,\"windspeed_knots\":9.9,\"max_wind_speed\":18.1,\"precipitation \":\" 0.01G\",\"created_time\":\"14-11-2019 22:51:46\",\"sender_id\":\"823d2f70dd754ccfa41ab48515635305climate\"}'\n"
     ]
    },
    {
     "name": "stdout",
     "output_type": "stream",
     "text": [
      "Message published successfully.  b'{\"latitude\":-36.0966,\"longitude\":142.3635,\"air_temperature_celcius\":22,\"relative_humidity\":57.0,\"windspeed_knots\":8.5,\"max_wind_speed\":15.0,\"precipitation \":\" 0.00G\",\"created_time\":\"14-11-2019 22:51:51\",\"sender_id\":\"823d2f70dd754ccfa41ab48515635305climate\"}'\n",
      "Message published successfully.  b'{\"latitude\":-37.461,\"longitude\":148.105,\"air_temperature_celcius\":10,\"relative_humidity\":45.6,\"windspeed_knots\":4.5,\"max_wind_speed\":7.0,\"precipitation \":\" 0.00I\",\"created_time\":\"14-11-2019 22:51:56\",\"sender_id\":\"823d2f70dd754ccfa41ab48515635305climate\"}'\n",
      "Message published successfully.  b'{\"latitude\":-37.614,\"longitude\":143.451,\"air_temperature_celcius\":19,\"relative_humidity\":60.2,\"windspeed_knots\":6.4,\"max_wind_speed\":12.0,\"precipitation \":\" 0.00I\",\"created_time\":\"14-11-2019 22:52:01\",\"sender_id\":\"823d2f70dd754ccfa41ab48515635305climate\"}'\n",
      "Message published successfully.  b'{\"latitude\":-37.446,\"longitude\":148.102,\"air_temperature_celcius\":10,\"relative_humidity\":39.4,\"windspeed_knots\":9.6,\"max_wind_speed\":14.0,\"precipitation \":\" 0.00G\",\"created_time\":\"14-11-2019 22:52:06\",\"sender_id\":\"823d2f70dd754ccfa41ab48515635305climate\"}'\n",
      "Message published successfully.  b'{\"latitude\":-37.436,\"longitude\":148.088,\"air_temperature_celcius\":15,\"relative_humidity\":41.5,\"windspeed_knots\":17.0,\"max_wind_speed\":28.9,\"precipitation \":\" 0.00I\",\"created_time\":\"14-11-2019 22:52:11\",\"sender_id\":\"823d2f70dd754ccfa41ab48515635305climate\"}'\n",
      "Message published successfully.  b'{\"latitude\":-36.6833,\"longitude\":141.6347,\"air_temperature_celcius\":15,\"relative_humidity\":56.2,\"windspeed_knots\":16.9,\"max_wind_speed\":20.0,\"precipitation \":\" 1.77G\",\"created_time\":\"14-11-2019 22:52:16\",\"sender_id\":\"823d2f70dd754ccfa41ab48515635305climate\"}'\n",
      "Message published successfully.  b'{\"latitude\":-37.382,\"longitude\":149.341,\"air_temperature_celcius\":18,\"relative_humidity\":53.6,\"windspeed_knots\":7.2,\"max_wind_speed\":15.0,\"precipitation \":\" 0.00I\",\"created_time\":\"14-11-2019 22:52:21\",\"sender_id\":\"823d2f70dd754ccfa41ab48515635305climate\"}'\n",
      "Message published successfully.  b'{\"latitude\":-36.0714,\"longitude\":145.7665,\"air_temperature_celcius\":18,\"relative_humidity\":54.6,\"windspeed_knots\":12.0,\"max_wind_speed\":25.1,\"precipitation \":\" 0.12G\",\"created_time\":\"14-11-2019 22:52:27\",\"sender_id\":\"823d2f70dd754ccfa41ab48515635305climate\"}'\n",
      "Message published successfully.  b'{\"latitude\":-36.759,\"longitude\":145.179,\"air_temperature_celcius\":18,\"relative_humidity\":55.6,\"windspeed_knots\":12.8,\"max_wind_speed\":19.0,\"precipitation \":\" 0.00I\",\"created_time\":\"14-11-2019 22:52:32\",\"sender_id\":\"823d2f70dd754ccfa41ab48515635305climate\"}'\n",
      "Message published successfully.  b'{\"latitude\":-36.834,\"longitude\":142.524,\"air_temperature_celcius\":13,\"relative_humidity\":50.3,\"windspeed_knots\":8.6,\"max_wind_speed\":13.0,\"precipitation \":\" 0.02G\",\"created_time\":\"14-11-2019 22:52:37\",\"sender_id\":\"823d2f70dd754ccfa41ab48515635305climate\"}'\n",
      "Message published successfully.  b'{\"latitude\":-36.418,\"longitude\":141.596,\"air_temperature_celcius\":14,\"relative_humidity\":50.1,\"windspeed_knots\":8.7,\"max_wind_speed\":15.0,\"precipitation \":\" 0.00G\",\"created_time\":\"14-11-2019 22:52:42\",\"sender_id\":\"823d2f70dd754ccfa41ab48515635305climate\"}'\n",
      "Message published successfully.  b'{\"latitude\":-36.0459,\"longitude\":143.8907,\"air_temperature_celcius\":21,\"relative_humidity\":58.7,\"windspeed_knots\":7.8,\"max_wind_speed\":13.0,\"precipitation \":\" 0.00I\",\"created_time\":\"14-11-2019 22:52:47\",\"sender_id\":\"823d2f70dd754ccfa41ab48515635305climate\"}'\n",
      "Message published successfully.  b'{\"latitude\":-36.4025,\"longitude\":142.5598,\"air_temperature_celcius\":21,\"relative_humidity\":57.4,\"windspeed_knots\":10.7,\"max_wind_speed\":22.9,\"precipitation \":\" 0.67G\",\"created_time\":\"14-11-2019 22:52:52\",\"sender_id\":\"823d2f70dd754ccfa41ab48515635305climate\"}'\n",
      "Message published successfully.  b'{\"latitude\":-37.637,\"longitude\":146.288,\"air_temperature_celcius\":31,\"relative_humidity\":61.9,\"windspeed_knots\":14.1,\"max_wind_speed\":23.9,\"precipitation \":\" 0.00I\",\"created_time\":\"14-11-2019 22:52:57\",\"sender_id\":\"823d2f70dd754ccfa41ab48515635305climate\"}'\n"
     ]
    },
    {
     "ename": "KeyboardInterrupt",
     "evalue": "",
     "output_type": "error",
     "traceback": [
      "\u001b[0;31m---------------------------------------------------------------------------\u001b[0m",
      "\u001b[0;31mKeyboardInterrupt\u001b[0m                         Traceback (most recent call last)",
      "\u001b[0;32m<ipython-input-1-7c5422871b5f>\u001b[0m in \u001b[0;36m<module>\u001b[0;34m\u001b[0m\n\u001b[1;32m     48\u001b[0m             \u001b[0mrow\u001b[0m\u001b[0;34m[\u001b[0m\u001b[0;34m'sender_id'\u001b[0m\u001b[0;34m]\u001b[0m \u001b[0;34m=\u001b[0m \u001b[0msender_id\u001b[0m\u001b[0;34m\u001b[0m\u001b[0;34m\u001b[0m\u001b[0m\n\u001b[1;32m     49\u001b[0m             \u001b[0mpublish_message\u001b[0m\u001b[0;34m(\u001b[0m\u001b[0mproducer\u001b[0m\u001b[0;34m,\u001b[0m \u001b[0mtopic\u001b[0m\u001b[0;34m,\u001b[0m \u001b[0mrow\u001b[0m\u001b[0;34m)\u001b[0m\u001b[0;34m\u001b[0m\u001b[0;34m\u001b[0m\u001b[0m\n\u001b[0;32m---> 50\u001b[0;31m             \u001b[0msleep\u001b[0m\u001b[0;34m(\u001b[0m\u001b[0;36m5\u001b[0m\u001b[0;34m)\u001b[0m \u001b[0;31m# stream after every 5 seconds\u001b[0m\u001b[0;34m\u001b[0m\u001b[0;34m\u001b[0m\u001b[0m\n\u001b[0m\u001b[1;32m     51\u001b[0m         \u001b[0;32mexcept\u001b[0m \u001b[0mException\u001b[0m \u001b[0;32mas\u001b[0m \u001b[0me\u001b[0m\u001b[0;34m:\u001b[0m\u001b[0;34m\u001b[0m\u001b[0;34m\u001b[0m\u001b[0m\n\u001b[1;32m     52\u001b[0m             \u001b[0mprint\u001b[0m\u001b[0;34m(\u001b[0m\u001b[0;34m'Exception in adding creation time and sender_id and publishing message.'\u001b[0m\u001b[0;34m)\u001b[0m\u001b[0;34m\u001b[0m\u001b[0;34m\u001b[0m\u001b[0m\n",
      "\u001b[0;31mKeyboardInterrupt\u001b[0m: "
     ]
    }
   ],
   "source": [
    "# import statements\n",
    "from time import sleep\n",
    "from json import dumps\n",
    "from kafka import KafkaProducer\n",
    "import random\n",
    "import uuid\n",
    "import datetime as dt\n",
    "import pandas as pd\n",
    "\n",
    "\n",
    "# publish data to Kafka\n",
    "def publish_message(producer_instance, topic_name, data):\n",
    "    try:\n",
    "        json_data = data.to_json().encode('utf-8') # encode data and send to topic\n",
    "        producer_instance.send(topic_name, value=json_data)\n",
    "        print('Message published successfully. ', json_data)\n",
    "    except Exception as ex:\n",
    "        print('Exception in publishing message.')\n",
    "        print(str(ex))\n",
    "\n",
    "#connnecting to kafka\n",
    "def connect_kafka_producer():\n",
    "    _producer = None\n",
    "    try:\n",
    "        _producer = KafkaProducer(bootstrap_servers=['127.0.0.1:9092'],\n",
    "                                  api_version=(0, 10))\n",
    "    except Exception as ex:\n",
    "        print('Exception while connecting Kafka.')\n",
    "        print(str(ex))\n",
    "    finally:\n",
    "        return _producer\n",
    "    \n",
    "if __name__ == '__main__':\n",
    "   \n",
    "    data_frame = pd.read_csv(\"./Assignment Data-20190504/climate_streaming.csv\")\n",
    "    sender_id = uuid.uuid4().hex+\"climate\" # create a unique sender id\n",
    "    \n",
    "    topic = 'climateHotspotData'\n",
    "    \n",
    "    print('Publishing records to topic ', topic)\n",
    "    producer = connect_kafka_producer() # Creating a connection to Kafka\n",
    "\n",
    "    while True:\n",
    "        try:\n",
    "            # converting the rows and adding creation time and senderid\n",
    "            row = data_frame.iloc[random.randrange(len(data_frame))]\n",
    "            row['created_time']= dt.datetime.now().strftime(\"%d-%m-%Y %H:%M:%S\")\n",
    "            row['sender_id'] = sender_id\n",
    "            publish_message(producer, topic, row)\n",
    "            sleep(5) # stream after every 5 seconds\n",
    "        except Exception as e:\n",
    "            print('Exception in adding creation time and sender_id and publishing message.')\n",
    "            print(str(ex))\n",
    "    \n"
   ]
  },
  {
   "cell_type": "code",
   "execution_count": null,
   "metadata": {},
   "outputs": [],
   "source": []
  }
 ],
 "metadata": {
  "kernelspec": {
   "display_name": "Python 3",
   "language": "python",
   "name": "python3"
  },
  "language_info": {
   "codemirror_mode": {
    "name": "ipython",
    "version": 3
   },
   "file_extension": ".py",
   "mimetype": "text/x-python",
   "name": "python",
   "nbconvert_exporter": "python",
   "pygments_lexer": "ipython3",
   "version": "3.6.8"
  }
 },
 "nbformat": 4,
 "nbformat_minor": 2
}
