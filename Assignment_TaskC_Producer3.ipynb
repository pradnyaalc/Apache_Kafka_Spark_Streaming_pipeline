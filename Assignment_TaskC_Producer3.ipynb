{
 "cells": [
  {
   "cell_type": "code",
   "execution_count": 1,
   "metadata": {},
   "outputs": [
    {
     "name": "stdout",
     "output_type": "stream",
     "text": [
      "Publishing records..\n",
      "Message published successfully.  b'{\"latitude\":-36.2933,\"longitude\":141.6923,\"confidence\":84.0,\"surface_temperature_celcius\":58.0,\"created_time\":\"14-11-2019 22:47:02\",\"sender_id\":\"a4a45bce242846678985c368f9929965terra\"}'\n"
     ]
    },
    {
     "name": "stderr",
     "output_type": "stream",
     "text": [
      "/usr/local/lib/python3.6/dist-packages/ipykernel_launcher.py:45: SettingWithCopyWarning: \n",
      "A value is trying to be set on a copy of a slice from a DataFrame\n",
      "\n",
      "See the caveats in the documentation: http://pandas.pydata.org/pandas-docs/stable/indexing.html#indexing-view-versus-copy\n",
      "/usr/local/lib/python3.6/dist-packages/pandas/core/series.py:915: SettingWithCopyWarning: \n",
      "A value is trying to be set on a copy of a slice from a DataFrame\n",
      "\n",
      "See the caveats in the documentation: http://pandas.pydata.org/pandas-docs/stable/indexing.html#indexing-view-versus-copy\n",
      "  self.loc[key] = value\n",
      "/usr/local/lib/python3.6/dist-packages/ipykernel_launcher.py:46: SettingWithCopyWarning: \n",
      "A value is trying to be set on a copy of a slice from a DataFrame\n",
      "\n",
      "See the caveats in the documentation: http://pandas.pydata.org/pandas-docs/stable/indexing.html#indexing-view-versus-copy\n"
     ]
    },
    {
     "name": "stdout",
     "output_type": "stream",
     "text": [
      "Message published successfully.  b'{\"latitude\":-36.3735,\"longitude\":147.3154,\"confidence\":86.0,\"surface_temperature_celcius\":61.0,\"created_time\":\"14-11-2019 22:47:10\",\"sender_id\":\"a4a45bce242846678985c368f9929965terra\"}'\n",
      "Message published successfully.  b'{\"latitude\":-36.4195,\"longitude\":141.2093,\"confidence\":60.0,\"surface_temperature_celcius\":42.0,\"created_time\":\"14-11-2019 22:47:18\",\"sender_id\":\"a4a45bce242846678985c368f9929965terra\"}'\n",
      "Message published successfully.  b'{\"latitude\":-37.2794,\"longitude\":143.5903,\"confidence\":51.0,\"surface_temperature_celcius\":44.0,\"created_time\":\"14-11-2019 22:47:26\",\"sender_id\":\"a4a45bce242846678985c368f9929965terra\"}'\n",
      "Message published successfully.  b'{\"latitude\":-36.0914,\"longitude\":145.0299,\"confidence\":78.0,\"surface_temperature_celcius\":51.0,\"created_time\":\"14-11-2019 22:47:34\",\"sender_id\":\"a4a45bce242846678985c368f9929965terra\"}'\n",
      "Message published successfully.  b'{\"latitude\":-37.7545,\"longitude\":142.1449,\"confidence\":74.0,\"surface_temperature_celcius\":48.0,\"created_time\":\"14-11-2019 22:47:42\",\"sender_id\":\"a4a45bce242846678985c368f9929965terra\"}'\n",
      "Message published successfully.  b'{\"latitude\":-37.8114,\"longitude\":143.1827,\"confidence\":81.0,\"surface_temperature_celcius\":54.0,\"created_time\":\"14-11-2019 22:47:51\",\"sender_id\":\"a4a45bce242846678985c368f9929965terra\"}'\n",
      "Message published successfully.  b'{\"latitude\":-38.3499,\"longitude\":147.033,\"confidence\":61.0,\"surface_temperature_celcius\":35.0,\"created_time\":\"14-11-2019 22:47:59\",\"sender_id\":\"a4a45bce242846678985c368f9929965terra\"}'\n",
      "Message published successfully.  b'{\"latitude\":-36.075,\"longitude\":145.8501,\"confidence\":78.0,\"surface_temperature_celcius\":51.0,\"created_time\":\"14-11-2019 22:48:07\",\"sender_id\":\"a4a45bce242846678985c368f9929965terra\"}'\n",
      "Message published successfully.  b'{\"latitude\":-36.3774,\"longitude\":143.7079,\"confidence\":91.0,\"surface_temperature_celcius\":68.0,\"created_time\":\"14-11-2019 22:48:15\",\"sender_id\":\"a4a45bce242846678985c368f9929965terra\"}'\n",
      "Message published successfully.  b'{\"latitude\":-36.663,\"longitude\":141.3038,\"confidence\":93.0,\"surface_temperature_celcius\":72.0,\"created_time\":\"14-11-2019 22:48:23\",\"sender_id\":\"a4a45bce242846678985c368f9929965terra\"}'\n",
      "Message published successfully.  b'{\"latitude\":-36.085,\"longitude\":145.9096,\"confidence\":64.0,\"surface_temperature_celcius\":42.0,\"created_time\":\"14-11-2019 22:48:31\",\"sender_id\":\"a4a45bce242846678985c368f9929965terra\"}'\n",
      "Message published successfully.  b'{\"latitude\":-35.7024,\"longitude\":143.1637,\"confidence\":81.0,\"surface_temperature_celcius\":39.0,\"created_time\":\"14-11-2019 22:48:39\",\"sender_id\":\"a4a45bce242846678985c368f9929965terra\"}'\n",
      "Message published successfully.  b'{\"latitude\":-38.0189,\"longitude\":143.6406,\"confidence\":68.0,\"surface_temperature_celcius\":44.0,\"created_time\":\"14-11-2019 22:48:47\",\"sender_id\":\"a4a45bce242846678985c368f9929965terra\"}'\n",
      "Message published successfully.  b'{\"latitude\":-37.401,\"longitude\":148.067,\"confidence\":100.0,\"surface_temperature_celcius\":79.0,\"created_time\":\"14-11-2019 22:48:56\",\"sender_id\":\"a4a45bce242846678985c368f9929965terra\"}'\n",
      "Message published successfully.  b'{\"latitude\":-36.8573,\"longitude\":143.5278,\"confidence\":69.0,\"surface_temperature_celcius\":45.0,\"created_time\":\"14-11-2019 22:49:04\",\"sender_id\":\"a4a45bce242846678985c368f9929965terra\"}'\n",
      "Message published successfully.  b'{\"latitude\":-36.8202,\"longitude\":141.802,\"confidence\":80.0,\"surface_temperature_celcius\":54.0,\"created_time\":\"14-11-2019 22:49:12\",\"sender_id\":\"a4a45bce242846678985c368f9929965terra\"}'\n",
      "Message published successfully.  b'{\"latitude\":-37.8469,\"longitude\":143.5343,\"confidence\":60.0,\"surface_temperature_celcius\":50.0,\"created_time\":\"14-11-2019 22:49:20\",\"sender_id\":\"a4a45bce242846678985c368f9929965terra\"}'\n",
      "Message published successfully.  b'{\"latitude\":-37.8758,\"longitude\":145.8371,\"confidence\":78.0,\"surface_temperature_celcius\":52.0,\"created_time\":\"14-11-2019 22:49:28\",\"sender_id\":\"a4a45bce242846678985c368f9929965terra\"}'\n",
      "Message published successfully.  b'{\"latitude\":-37.6403,\"longitude\":142.8696,\"confidence\":74.0,\"surface_temperature_celcius\":48.0,\"created_time\":\"14-11-2019 22:49:36\",\"sender_id\":\"a4a45bce242846678985c368f9929965terra\"}'\n",
      "Message published successfully.  b'{\"latitude\":-36.0195,\"longitude\":141.6772,\"confidence\":71.0,\"surface_temperature_celcius\":46.0,\"created_time\":\"14-11-2019 22:49:44\",\"sender_id\":\"a4a45bce242846678985c368f9929965terra\"}'\n",
      "Message published successfully.  b'{\"latitude\":-37.926,\"longitude\":144.0898,\"confidence\":85.0,\"surface_temperature_celcius\":59.0,\"created_time\":\"14-11-2019 22:49:53\",\"sender_id\":\"a4a45bce242846678985c368f9929965terra\"}'\n",
      "Message published successfully.  b'{\"latitude\":-36.5577,\"longitude\":145.3929,\"confidence\":88.0,\"surface_temperature_celcius\":64.0,\"created_time\":\"14-11-2019 22:50:01\",\"sender_id\":\"a4a45bce242846678985c368f9929965terra\"}'\n",
      "Message published successfully.  b'{\"latitude\":-36.228,\"longitude\":144.6721,\"confidence\":56.0,\"surface_temperature_celcius\":39.0,\"created_time\":\"14-11-2019 22:50:09\",\"sender_id\":\"a4a45bce242846678985c368f9929965terra\"}'\n",
      "Message published successfully.  b'{\"latitude\":-37.333,\"longitude\":148.099,\"confidence\":94.0,\"surface_temperature_celcius\":43.0,\"created_time\":\"14-11-2019 22:50:17\",\"sender_id\":\"a4a45bce242846678985c368f9929965terra\"}'\n",
      "Message published successfully.  b'{\"latitude\":-36.6946,\"longitude\":144.7875,\"confidence\":100.0,\"surface_temperature_celcius\":117.0,\"created_time\":\"14-11-2019 22:50:25\",\"sender_id\":\"a4a45bce242846678985c368f9929965terra\"}'\n",
      "Message published successfully.  b'{\"latitude\":-37.2054,\"longitude\":141.1083,\"confidence\":61.0,\"surface_temperature_celcius\":41.0,\"created_time\":\"14-11-2019 22:50:33\",\"sender_id\":\"a4a45bce242846678985c368f9929965terra\"}'\n",
      "Message published successfully.  b'{\"latitude\":-34.9917,\"longitude\":141.8885,\"confidence\":52.0,\"surface_temperature_celcius\":49.0,\"created_time\":\"14-11-2019 22:50:41\",\"sender_id\":\"a4a45bce242846678985c368f9929965terra\"}'\n",
      "Message published successfully.  b'{\"latitude\":-36.8791,\"longitude\":142.7261,\"confidence\":100.0,\"surface_temperature_celcius\":93.0,\"created_time\":\"14-11-2019 22:50:49\",\"sender_id\":\"a4a45bce242846678985c368f9929965terra\"}'\n",
      "Message published successfully.  b'{\"latitude\":-37.6261,\"longitude\":142.9447,\"confidence\":85.0,\"surface_temperature_celcius\":59.0,\"created_time\":\"14-11-2019 22:50:58\",\"sender_id\":\"a4a45bce242846678985c368f9929965terra\"}'\n",
      "Message published successfully.  b'{\"latitude\":-37.394,\"longitude\":143.5541,\"confidence\":83.0,\"surface_temperature_celcius\":64.0,\"created_time\":\"14-11-2019 22:51:06\",\"sender_id\":\"a4a45bce242846678985c368f9929965terra\"}'\n",
      "Message published successfully.  b'{\"latitude\":-36.6141,\"longitude\":146.6331,\"confidence\":78.0,\"surface_temperature_celcius\":57.0,\"created_time\":\"14-11-2019 22:51:14\",\"sender_id\":\"a4a45bce242846678985c368f9929965terra\"}'\n",
      "Message published successfully.  b'{\"latitude\":-36.2669,\"longitude\":143.1906,\"confidence\":61.0,\"surface_temperature_celcius\":45.0,\"created_time\":\"14-11-2019 22:51:22\",\"sender_id\":\"a4a45bce242846678985c368f9929965terra\"}'\n",
      "Message published successfully.  b'{\"latitude\":-36.7848,\"longitude\":141.9044,\"confidence\":85.0,\"surface_temperature_celcius\":61.0,\"created_time\":\"14-11-2019 22:51:30\",\"sender_id\":\"a4a45bce242846678985c368f9929965terra\"}'\n",
      "Message published successfully.  b'{\"latitude\":-36.2205,\"longitude\":141.7933,\"confidence\":81.0,\"surface_temperature_celcius\":54.0,\"created_time\":\"14-11-2019 22:51:38\",\"sender_id\":\"a4a45bce242846678985c368f9929965terra\"}'\n",
      "Message published successfully.  b'{\"latitude\":-36.3984,\"longitude\":144.0271,\"confidence\":85.0,\"surface_temperature_celcius\":60.0,\"created_time\":\"14-11-2019 22:51:46\",\"sender_id\":\"a4a45bce242846678985c368f9929965terra\"}'\n",
      "Message published successfully.  b'{\"latitude\":-38.5484,\"longitude\":143.4804,\"confidence\":88.0,\"surface_temperature_celcius\":64.0,\"created_time\":\"14-11-2019 22:51:54\",\"sender_id\":\"a4a45bce242846678985c368f9929965terra\"}'\n",
      "Message published successfully.  b'{\"latitude\":-36.3156,\"longitude\":141.4514,\"confidence\":84.0,\"surface_temperature_celcius\":57.0,\"created_time\":\"14-11-2019 22:52:03\",\"sender_id\":\"a4a45bce242846678985c368f9929965terra\"}'\n",
      "Message published successfully.  b'{\"latitude\":-37.406,\"longitude\":148.123,\"confidence\":100.0,\"surface_temperature_celcius\":88.0,\"created_time\":\"14-11-2019 22:52:11\",\"sender_id\":\"a4a45bce242846678985c368f9929965terra\"}'\n"
     ]
    },
    {
     "name": "stdout",
     "output_type": "stream",
     "text": [
      "Message published successfully.  b'{\"latitude\":-36.7742,\"longitude\":145.1991,\"confidence\":100.0,\"surface_temperature_celcius\":89.0,\"created_time\":\"14-11-2019 22:52:19\",\"sender_id\":\"a4a45bce242846678985c368f9929965terra\"}'\n",
      "Message published successfully.  b'{\"latitude\":-37.9808,\"longitude\":143.8485,\"confidence\":81.0,\"surface_temperature_celcius\":54.0,\"created_time\":\"14-11-2019 22:52:27\",\"sender_id\":\"a4a45bce242846678985c368f9929965terra\"}'\n",
      "Message published successfully.  b'{\"latitude\":-36.8834,\"longitude\":142.2701,\"confidence\":76.0,\"surface_temperature_celcius\":50.0,\"created_time\":\"14-11-2019 22:52:35\",\"sender_id\":\"a4a45bce242846678985c368f9929965terra\"}'\n",
      "Message published successfully.  b'{\"latitude\":-36.3387,\"longitude\":141.7542,\"confidence\":96.0,\"surface_temperature_celcius\":77.0,\"created_time\":\"14-11-2019 22:52:43\",\"sender_id\":\"a4a45bce242846678985c368f9929965terra\"}'\n",
      "Message published successfully.  b'{\"latitude\":-38.0907,\"longitude\":143.2362,\"confidence\":69.0,\"surface_temperature_celcius\":45.0,\"created_time\":\"14-11-2019 22:52:51\",\"sender_id\":\"a4a45bce242846678985c368f9929965terra\"}'\n"
     ]
    },
    {
     "ename": "KeyboardInterrupt",
     "evalue": "",
     "output_type": "error",
     "traceback": [
      "\u001b[0;31m---------------------------------------------------------------------------\u001b[0m",
      "\u001b[0;31mKeyboardInterrupt\u001b[0m                         Traceback (most recent call last)",
      "\u001b[0;32m<ipython-input-1-1c597386ff1c>\u001b[0m in \u001b[0;36m<module>\u001b[0;34m\u001b[0m\n\u001b[1;32m     46\u001b[0m             \u001b[0mrow\u001b[0m\u001b[0;34m[\u001b[0m\u001b[0;34m'sender_id'\u001b[0m\u001b[0;34m]\u001b[0m \u001b[0;34m=\u001b[0m \u001b[0msender_id\u001b[0m\u001b[0;34m\u001b[0m\u001b[0;34m\u001b[0m\u001b[0m\n\u001b[1;32m     47\u001b[0m             \u001b[0mpublish_message\u001b[0m\u001b[0;34m(\u001b[0m\u001b[0mproducer\u001b[0m\u001b[0;34m,\u001b[0m \u001b[0mtopic\u001b[0m\u001b[0;34m,\u001b[0m \u001b[0mrow\u001b[0m\u001b[0;34m)\u001b[0m\u001b[0;34m\u001b[0m\u001b[0;34m\u001b[0m\u001b[0m\n\u001b[0;32m---> 48\u001b[0;31m             \u001b[0msleep\u001b[0m\u001b[0;34m(\u001b[0m\u001b[0;36m8\u001b[0m\u001b[0;34m)\u001b[0m \u001b[0;31m# We have considered this so that we can get more data into db\u001b[0m\u001b[0;34m\u001b[0m\u001b[0;34m\u001b[0m\u001b[0m\n\u001b[0m\u001b[1;32m     49\u001b[0m             \u001b[0;31m#The actual value should be random.randint(10,30)\u001b[0m\u001b[0;34m\u001b[0m\u001b[0;34m\u001b[0m\u001b[0;34m\u001b[0m\u001b[0m\n\u001b[1;32m     50\u001b[0m         \u001b[0;32mexcept\u001b[0m \u001b[0mException\u001b[0m \u001b[0;32mas\u001b[0m \u001b[0me\u001b[0m\u001b[0;34m:\u001b[0m\u001b[0;34m\u001b[0m\u001b[0;34m\u001b[0m\u001b[0m\n",
      "\u001b[0;31mKeyboardInterrupt\u001b[0m: "
     ]
    }
   ],
   "source": [
    "# import statements\n",
    "from time import sleep\n",
    "from json import dumps\n",
    "from kafka import KafkaProducer\n",
    "import uuid\n",
    "import random\n",
    "import datetime as dt\n",
    "import pandas as pd\n",
    "\n",
    "# publish data to Kafka \n",
    "def publish_message(producer_instance, topic_name, data):\n",
    "    try:\n",
    "        json_data = data.to_json().encode('utf-8') # encode data and send to topic\n",
    "        producer_instance.send(topic_name, value=json_data)\n",
    "        print('Message published successfully. ', json_data)\n",
    "    except Exception as ex:\n",
    "        print('Exception in publishing message.')\n",
    "        print(str(ex))\n",
    "\n",
    "#connnecting to kafka\n",
    "def connect_kafka_producer():\n",
    "    _producer = None\n",
    "    try:\n",
    "        _producer = KafkaProducer(bootstrap_servers=['127.0.0.1:9092'],\n",
    "                                  api_version=(0, 10))\n",
    "    except Exception as ex:\n",
    "        print('Exception while connecting Kafka.')\n",
    "        print(str(ex))\n",
    "    finally:\n",
    "        return _producer\n",
    "    \n",
    "if __name__ == '__main__':\n",
    "   \n",
    "    data_frame = pd.read_csv(\"./Assignment Data-20190504/hotspot_TERRA_streaming.csv\")\n",
    "    sender_id = uuid.uuid4().hex+\"terra\" # create a unique sender id\n",
    "    \n",
    "    topic = 'climateHotspotData' # kafka topic name to produce data\n",
    "    \n",
    "    print('Publishing records..')\n",
    "    producer = connect_kafka_producer() # Creating a connection to Kafka\n",
    "    while True:\n",
    "        try:\n",
    "            # converting the rows and adding creation time and senderid\n",
    "            row = data_frame.iloc[random.randrange(len(data_frame))]\n",
    "            row['created_time']= dt.datetime.now().strftime(\"%d-%m-%Y %H:%M:%S\")\n",
    "            row['sender_id'] = sender_id\n",
    "            publish_message(producer, topic, row)\n",
    "            sleep(8) # We have considered this so that we can get more data into db\n",
    "            #The actual value should be random.randint(10,30)\n",
    "        except Exception as e:\n",
    "            print('Exception in adding creation time and sender_id and publishing message.')\n",
    "            print(str(ex))"
   ]
  },
  {
   "cell_type": "code",
   "execution_count": null,
   "metadata": {},
   "outputs": [],
   "source": []
  },
  {
   "cell_type": "code",
   "execution_count": null,
   "metadata": {},
   "outputs": [],
   "source": []
  }
 ],
 "metadata": {
  "kernelspec": {
   "display_name": "Python 3",
   "language": "python",
   "name": "python3"
  },
  "language_info": {
   "codemirror_mode": {
    "name": "ipython",
    "version": 3
   },
   "file_extension": ".py",
   "mimetype": "text/x-python",
   "name": "python",
   "nbconvert_exporter": "python",
   "pygments_lexer": "ipython3",
   "version": "3.6.8"
  }
 },
 "nbformat": 4,
 "nbformat_minor": 2
}
